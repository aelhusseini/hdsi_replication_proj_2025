{
 "cells": [
  {
   "cell_type": "markdown",
   "metadata": {},
   "source": [
    "# LangGraph and Knowledge Graphs Tutorial\n",
    "\n",
    "## Learning Objectives 🎯\n",
    "\n",
    "By the end of this tutorial, you will understand:\n",
    "\n",
    "1. **Knowledge Graphs**: What they are and how they represent domain knowledge\n",
    "2. **LangGraph**: How to build AI workflows with state management\n",
    "3. **Biomedical Applications**: Real-world uses of AI + knowledge graphs\n",
    "4. **Practical Implementation**: How to build your own AI agents\n",
    "\n",
    "## Prerequisites 📚\n",
    "\n",
    "- Basic Python programming\n",
    "- Understanding of databases (helpful but not required)\n",
    "- Interest in AI and biomedical applications\n",
    "\n",
    "---"
   ]
  },
  {
   "cell_type": "markdown",
   "metadata": {},
   "source": "## Part 1: What are Knowledge Graphs? 🕸️\n\n### The Problem with Traditional Data Storage\n\nImagine you're studying biology and want to answer: **\"What genes are related to Hypertension?\"**\n\nWith traditional databases (tables), you might have:\n- `genes` table\n- `diseases` table  \n- `gene_disease_associations` table\n\nBut what about complex questions like: **\"What pathway connects TP53 to Lisinopril through proteins and diseases?\"**\n\nThis requires joining multiple tables and becomes very complex!\n\n### Knowledge Graphs: A Better Way\n\nKnowledge graphs store information as **nodes** (entities) and **relationships** (edges):\n\n```\nTP53 --[ENCODES]--> TP53_protein --[ASSOCIATED_WITH]--> Hypertension\n                                    ^\n                                    |\n                                [TREATS]\n                                    |\n                                Lisinopril\n```\n\nThis naturally represents how biological entities relate to each other!",
   "outputs": []
  },
  {
   "cell_type": "markdown",
   "metadata": {},
   "source": "## Part 2: Our Biomedical Knowledge Graph 🧬\n\n### Graph Schema\n\nOur knowledge graph contains:\n\n**Nodes (Entities):**\n- 🧬 **Gene**: Genetic sequences (e.g., TP53, BRCA1, KRAS)\n- 🧪 **Protein**: Proteins encoded by genes (e.g., TP53, BRCA1, insulin)\n- 🏥 **Disease**: Medical conditions (e.g., Hypertension, Coronary_Artery_Disease)\n- 💊 **Drug**: Medications and treatments (e.g., Lisinopril, Atorvastatin)\n\n**Relationships (Edges):**\n- Gene `--[ENCODES]-->` Protein\n- Gene `--[LINKED_TO]-->` Disease\n- Protein `--[ASSOCIATED_WITH]-->` Disease  \n- Drug `--[TREATS]-->` Disease\n- Drug `--[TARGETS]-->` Protein\n\n### Why This Matters\n\nThis structure mirrors how biologists think about molecular relationships!",
   "outputs": []
  },
  {
   "cell_type": "code",
   "metadata": {},
   "outputs": [],
   "source": "# Let's connect to our knowledge graph and explore it!\nimport sys\nimport os\nfrom pathlib import Path\n\n# Add the project root to Python path\nproject_root = Path().resolve().parent.parent\nsys.path.append(str(project_root))\n\nfrom dotenv import load_dotenv\nfrom src.agents.graph_interface import GraphInterface\n\n# Load environment variables\nload_dotenv()\n\n# Connect to the graph database\nuri = os.getenv(\"NEO4J_URI\", \"bolt://localhost:7687\")\nuser = os.getenv(\"NEO4J_USER\", \"neo4j\")\npassword = os.getenv(\"NEO4J_PASSWORD\")\n\nif not password:\n    print(\"⚠️ Please set NEO4J_PASSWORD in your .env file\")\n    print(\"💡 Tip: Copy .env.example to .env and add your credentials\")\nelse:\n    try:\n        graph_db = GraphInterface(uri, user, password)\n        print(\"✅ Connected to knowledge graph!\")\n    except Exception as e:\n        print(f\"❌ Connection failed: {e}\")\n        print(\"💡 Make sure Neo4j is running and credentials are correct\")"
  },
  {
   "cell_type": "code",
   "execution_count": null,
   "metadata": {},
   "outputs": [],
   "source": [
    "# Explore our graph schema\n",
    "schema = graph_db.get_schema_info()\n",
    "\n",
    "print(\"🏗️ Knowledge Graph Schema:\")\n",
    "print(\"=\" * 40)\n",
    "print(f\"Node Types: {schema['node_labels']}\")\n",
    "print(f\"Relationship Types: {schema['relationship_types']}\")\n",
    "print(\"\\n📊 Node Properties:\")\n",
    "for node_type, properties in schema['node_properties'].items():\n",
    "    print(f\"  {node_type}: {properties}\")"
   ]
  },
  {
   "cell_type": "code",
   "metadata": {},
   "outputs": [],
   "source": "# Let's see some actual data!\n# Get a few examples of each node type\n\nprint(\"🧬 Sample Genes:\")\ngenes = graph_db.execute_query(\"MATCH (g:Gene) RETURN g.gene_name, g.function LIMIT 3\")\nfor gene in genes:\n    print(f\"  • {gene['g.gene_name']}: {gene.get('g.function', 'Function not specified')}\")\n\nprint(\"\\n🧪 Sample Proteins:\")\nproteins = graph_db.execute_query(\"MATCH (p:Protein) RETURN p.protein_name, p.molecular_weight LIMIT 3\")\nfor protein in proteins:\n    print(f\"  • {protein['p.protein_name']}: {protein['p.molecular_weight']} kDa\")\n\nprint(\"\\n🏥 Sample Diseases:\")\ndiseases = graph_db.execute_query(\"MATCH (d:Disease) RETURN d.disease_name, d.category LIMIT 3\")\nfor disease in diseases:\n    print(f\"  • {disease['d.disease_name']}: {disease['d.category']}\")\n\nprint(\"\\n💊 Sample Drugs:\")\ndrugs = graph_db.execute_query(\"MATCH (dr:Drug) RETURN dr.drug_name, dr.type LIMIT 3\")\nfor drug in drugs:\n    print(f\"  • {drug['dr.drug_name']}: {drug['dr.type']}\")\n    \nprint(\"\\n📊 Database Summary:\")\nsummary = graph_db.execute_query(\"\"\"\nMATCH (n) \nRETURN labels(n)[0] as node_type, count(*) as count \nORDER BY count DESC\n\"\"\")\nfor row in summary:\n    print(f\"  • {row['node_type']}: {row['count']} nodes\")"
  },
  {
   "cell_type": "markdown",
   "metadata": {},
   "source": [
    "## Part 3: Graph Queries with Cypher 🔍\n",
    "\n",
    "Neo4j uses **Cypher** as its query language. Think of it like SQL, but for graphs!\n",
    "\n",
    "### Basic Cypher Patterns\n",
    "\n",
    "1. **MATCH**: Find patterns in the graph\n",
    "2. **WHERE**: Filter results\n",
    "3. **RETURN**: What to give back\n",
    "\n",
    "### Example Queries"
   ]
  },
  {
   "cell_type": "code",
   "execution_count": null,
   "metadata": {},
   "outputs": [],
   "source": [
    "# Simple query: Find all genes\n",
    "query1 = \"MATCH (g:Gene) RETURN g.gene_name LIMIT 5\"\n",
    "result1 = graph_db.execute_query(query1)\n",
    "\n",
    "print(\"🔍 Simple Query: All genes\")\n",
    "print(f\"Query: {query1}\")\n",
    "print(\"Results:\")\n",
    "for row in result1:\n",
    "    print(f\"  • {row['g.gene_name']}\")"
   ]
  },
  {
   "cell_type": "code",
   "execution_count": null,
   "metadata": {},
   "outputs": [],
   "source": [
    "# Relationship query: Find what proteins are encoded by genes\n",
    "query2 = \"\"\"\n",
    "MATCH (g:Gene)-[:ENCODES]->(p:Protein) \n",
    "RETURN g.gene_name, p.protein_name \n",
    "LIMIT 5\n",
    "\"\"\"\n",
    "\n",
    "result2 = graph_db.execute_query(query2)\n",
    "\n",
    "print(\"🔗 Relationship Query: Gene encodes Protein\")\n",
    "print(f\"Query: {query2.strip()}\")\n",
    "print(\"Results:\")\n",
    "for row in result2:\n",
    "    print(f\"  • Gene {row['g.gene_name']} encodes Protein {row['p.protein_name']}\")"
   ]
  },
  {
   "cell_type": "code",
   "execution_count": null,
   "metadata": {},
   "outputs": [],
   "source": [
    "# Complex query: Find complete pathway from gene to treatment\n",
    "query3 = \"\"\"\n",
    "MATCH (g:Gene)-[:ENCODES]->(p:Protein)-[:ASSOCIATED_WITH]->(d:Disease)<-[:TREATS]-(dr:Drug)\n",
    "RETURN g.gene_name, p.protein_name, d.disease_name, dr.drug_name\n",
    "LIMIT 3\n",
    "\"\"\"\n",
    "\n",
    "result3 = graph_db.execute_query(query3)\n",
    "\n",
    "print(\"🛤️ Complex Query: Complete pathway Gene → Protein → Disease ← Drug\")\n",
    "print(f\"Query: {query3.strip()}\")\n",
    "print(\"Results:\")\n",
    "for row in result3:\n",
    "    print(f\"  • {row['g.gene_name']} → {row['p.protein_name']} → {row['d.disease_name']} ← {row['dr.drug_name']}\")"
   ]
  },
  {
   "cell_type": "markdown",
   "metadata": {},
   "source": "### 🎯 Exercise 1: Write Your Own Query\n\nTry writing a query to find drugs that treat Hypertension!\n\n**Hint**: Use the pattern `(dr:Drug)-[:TREATS]->(d:Disease)` and filter where disease name contains \"hypertension\"",
   "outputs": []
  },
  {
   "cell_type": "code",
   "metadata": {},
   "outputs": [],
   "source": "# Your turn! Write a query to find drugs that treat Hypertension\n# This uses actual data from our database\n\nyour_query = \"\"\"\nMATCH (dr:Drug)-[:TREATS]->(d:Disease)\nWHERE toLower(d.disease_name) CONTAINS 'hypertension'\nRETURN dr.drug_name, d.disease_name\nLIMIT 5\n\"\"\"\n\nprint(\"🎯 Exercise 1: Find drugs that treat Hypertension\")\nprint(\"Query:\")\nprint(your_query)\nprint(\"\\nResults:\")\n\ntry:\n    result = graph_db.execute_query(your_query)\n    if result:\n        for row in result:\n            print(f\"  • Drug '{row['dr.drug_name']}' treats {row['d.disease_name']}\")\n    else:\n        print(\"  • No results found. Try running the data loading script first!\")\n        print(\"  • Command: pdm run load-data\")\nexcept Exception as e:\n    print(f\"  • Error: {e}\")\n    print(\"  • Make sure the database is connected and data is loaded\")\n\n# Now try your own variations:\nprint(\"\\n💡 Try modifying the query to search for:\")\nprint(\"  • 'coronary' (heart disease)\")\nprint(\"  • 'diabetes' (metabolic disorder)\")  \nprint(\"  • Change LIMIT to see more results\")"
  },
  {
   "cell_type": "markdown",
   "metadata": {},
   "source": [
    "## Part 4: What is LangGraph? 🌊\n",
    "\n",
    "### The Challenge: Complex AI Workflows\n",
    "\n",
    "Imagine you want to build an AI that can:\n",
    "1. Understand a natural language question\n",
    "2. Extract important entities\n",
    "3. Generate a database query\n",
    "4. Execute the query\n",
    "5. Format the results\n",
    "\n",
    "Each step depends on the previous ones, and you need to manage **state** (information) flowing between steps.\n",
    "\n",
    "### LangGraph: AI Workflow Engine\n",
    "\n",
    "LangGraph helps you build **multi-step AI workflows** with:\n",
    "- **Nodes**: Individual processing steps\n",
    "- **Edges**: How steps connect\n",
    "- **State**: Information that flows between steps\n",
    "\n",
    "### Visual Representation\n",
    "\n",
    "```\n",
    "Question → [Classify] → [Extract] → [Generate] → [Execute] → [Format] → Answer\n",
    "             ↓            ↓           ↓           ↓           ↓\n",
    "           State      State       State       State       State\n",
    "```"
   ]
  },
  {
   "cell_type": "markdown",
   "metadata": {},
   "source": "# Import our AI agents\nfrom src.agents.advanced_ai_agent import AdvancedAIAgent\nfrom src.agents.workflow_agent import WorkflowAgent\n\n# Let's understand the LangGraph workflow steps\nprint(\"🏗️ LangGraph Workflow Architecture\")\nprint(\"=\" * 50)\nprint(\"\"\"\nOur AI agents use LangGraph to create structured workflows with these steps:\n\n1. 🏷️ CLASSIFY: Determine question type (gene_disease, drug_treatment, etc.)\n2. 🔍 EXTRACT: Extract biomedical entities from the question  \n3. 🔧 GENERATE: Create appropriate Cypher query\n4. ⚡ EXECUTE: Run query against Neo4j database\n5. 📝 FORMAT: Generate natural language response\n\nEach step manages STATE that flows to the next step:\n\"\"\")\n\nprint(\"\"\"\nState Flow Example:\n┌─────────────────┐    ┌─────────────────┐    ┌─────────────────┐\n│ question:       │    │ question_type:  │    │ entities:       │\n│ \"What drugs     │ →  │ \"drug_treatment\"│ →  │ [\"Hypertension\"]│\n│ treat           │    │                 │    │                 │\n│ hypertension?\"  │    │                 │    │                 │\n└─────────────────┘    └─────────────────┘    └─────────────────┘\n         ↓\n┌─────────────────┐    ┌─────────────────┐\n│ cypher_query:   │    │ final_answer:   │\n│ \"MATCH (dr...)  │ ←  │ \"Based on the   │\n│ WHERE...\"       │    │ database...\"    │\n└─────────────────┘    └─────────────────┘\n\"\"\")",
   "outputs": []
  },
  {
   "cell_type": "code",
   "metadata": {},
   "outputs": [],
   "source": "# Create our AI agent\nanthropic_key = os.getenv(\"ANTHROPIC_API_KEY\")\n\nif not anthropic_key:\n    print(\"⚠️ Please set ANTHROPIC_API_KEY in your .env file\")\n    print(\"💡 Get your free API key at: https://console.anthropic.com/\")\n    print(\"💡 Add it to your .env file: ANTHROPIC_API_KEY=sk-ant-your-key-here\")\nelse:\n    try:\n        # Initialize the AI agent (using AdvancedAIAgent for detailed learning)\n        ai_agent = AdvancedAIAgent(graph_db, anthropic_key)\n        print(\"✅ AI Agent ready!\")\n        print(\"🎓 This agent uses the AdvancedAIAgent with detailed step-by-step explanations\")\n    except Exception as e:\n        print(f\"❌ Agent initialization failed: {e}\")\n        print(\"💡 Check your API key and network connection\")"
  },
  {
   "cell_type": "markdown",
   "metadata": {},
   "source": "# Let's ask our agent a question and see the complete workflow!\nquestion = \"What genes are associated with Hypertension?\"\n\nprint(\"🎓 Running Learning LangGraph Agent\")\nprint(\"=\" * 50)\n\nresult = ai_agent.answer_question(question)\n\nprint(\"\\n📋 Complete Workflow Results:\")\nprint(\"=\" * 50)\nprint(f\"❓ Original Question: {question}\")\nprint(f\"🏷️ Question Type: {result['question_type']}\")\nprint(f\"🧬 Entities Found: {result['entities']}\")\nprint(f\"🔧 Generated Query: {result['cypher_query']}\")\nprint(f\"📊 Results Count: {result['results_count']}\")\nprint(f\"✅ Final Answer: {result['answer']}\")\n\nif result['error']:\n    print(f\"❌ Error: {result['error']}\")",
   "outputs": []
  },
  {
   "cell_type": "code",
   "metadata": {},
   "outputs": [],
   "source": "# Let's ask our agent a question and see the complete workflow!\n# Using real entities from our database\n\nquestion = \"What genes are associated with Hypertension?\"\n\nprint(\"🎓 Running LangGraph AI Agent\")\nprint(\"=\" * 50)\nprint(f\"❓ Question: {question}\")\nprint(\"\\n⚙️ Workflow Steps:\")\n\ntry:\n    result = ai_agent.answer_question(question)\n    \n    print(\"\\n📋 Complete Workflow Results:\")\n    print(\"=\" * 50)\n    print(f\"🏷️ Question Type: {result.get('question_type', 'Not classified')}\")\n    print(f\"🧬 Entities Found: {result.get('entities', 'None found')}\")\n    print(f\"🔧 Generated Query: {result.get('cypher_query', 'No query generated')}\")\n    print(f\"📊 Results Count: {result.get('results_count', 0)}\")\n    print(f\"✅ Final Answer: {result.get('answer', 'No answer generated')}\")\n    \n    if result.get('error'):\n        print(f\"❌ Error: {result['error']}\")\n        \nexcept Exception as e:\n    print(f\"❌ Workflow failed: {e}\")\n    print(\"💡 Make sure both Neo4j and Anthropic API are properly configured\")"
  },
  {
   "cell_type": "markdown",
   "metadata": {},
   "source": "# Try different questions with real biomedical entities!\nquestions_to_try = [\n    \"What drugs treat Hypertension?\",\n    \"What protein does TP53 encode?\", \n    \"What diseases is BRCA1 associated with?\",\n    \"What are the targets of Lisinopril?\"\n]\n\n# Pick one and try it:\ntest_question = questions_to_try[0]  # Change the index to try different questions\n\nprint(f\"🧪 Testing: {test_question}\")\nprint(\"-\" * 50)\n\ntry:\n    result = ai_agent.answer_question(test_question)\n    print(f\"✅ Answer: {result.get('answer', 'No answer generated')}\")\n    print(f\"🔧 Query used: {result.get('cypher_query', 'No query shown')}\")\n    \n    if result.get('error'):\n        print(f\"❌ Error: {result['error']}\")\n        \nexcept Exception as e:\n    print(f\"❌ Query failed: {e}\")\n\nprint(f\"\\n💡 Try changing test_question to questions_to_try[1], [2], or [3] to test other questions!\")\nprint(\"💡 Or write your own question using entity names from the database\")",
   "outputs": []
  },
  {
   "cell_type": "code",
   "metadata": {},
   "outputs": [],
   "source": "# Let's examine the workflow creation code\nimport inspect\n\n# Look at how the workflow is created\nprint(\"🏗️ How the LangGraph Workflow is Built:\")\nprint(\"=\" * 50)\n\nworkflow_code = inspect.getsource(ai_agent._create_learning_workflow)\nprint(workflow_code)"
  },
  {
   "cell_type": "markdown",
   "metadata": {},
   "source": "# Let's examine the workflow creation code\nimport inspect\n\n# Look at how the workflow is created\nprint(\"🏗️ How the LangGraph Workflow is Built:\")\nprint(\"=\" * 50)\n\ntry:\n    # Get the workflow creation method from AdvancedAIAgent\n    workflow_method = getattr(ai_agent, '_build_workflow', None)\n    if workflow_method:\n        workflow_code = inspect.getsource(workflow_method)\n        print(workflow_code)\n    else:\n        print(\"Workflow method not found. Let's see available methods:\")\n        methods = [method for method in dir(ai_agent) if not method.startswith('_') or 'workflow' in method.lower()]\n        for method in methods:\n            print(f\"  • {method}\")\nexcept Exception as e:\n    print(f\"Could not inspect workflow code: {e}\")\n    print(\"The workflow is built using LangGraph's StateGraph with nodes for:\")\n    print(\"  • classify_question\")\n    print(\"  • extract_entities\") \n    print(\"  • generate_cypher_query\")\n    print(\"  • execute_query\")\n    print(\"  • format_response\")",
   "outputs": []
  },
  {
   "cell_type": "code",
   "metadata": {},
   "outputs": [],
   "source": "# Let's look at one of the workflow steps in detail\nprint(\"🔍 Example: The Entity Extraction Step\")\nprint(\"=\" * 50)\n\nextract_code = inspect.getsource(ai_agent.extract_entities)\nprint(extract_code)"
  },
  {
   "cell_type": "markdown",
   "metadata": {},
   "source": "# Let's look at one of the workflow steps in detail\nprint(\"🔍 Example: The Entity Extraction Step\")\nprint(\"=\" * 50)\n\ntry:\n    # Get the entity extraction method\n    extract_method = getattr(ai_agent, 'extract_entities', None)\n    if extract_method:\n        extract_code = inspect.getsource(extract_method)\n        print(extract_code)\n    else:\n        print(\"Entity extraction method not found in AdvancedAIAgent.\")\n        print(\"Here's what entity extraction typically does:\")\n        print(\"\"\"\ndef extract_entities(self, state):\n    # Takes the user question from state\n    question = state['question']\n    \n    # Uses AI to identify biomedical entities\n    # Looks for: gene names, protein names, disease names, drug names\n    \n    # Updates state with found entities\n    state['entities'] = extracted_entities\n    return state\n        \"\"\")\nexcept Exception as e:\n    print(f\"Could not inspect extraction code: {e}\")\n    print(\"Entity extraction finds biomedical terms in user questions\")",
   "outputs": []
  },
  {
   "cell_type": "code",
   "metadata": {},
   "outputs": [],
   "source": "# Import the simple agent for comparison\nfrom agent.simple_agent import SimpleAgent\n\nsimple_agent = SimpleAgent(graph_db)\n\nprint(\"⚡ Speed Comparison: Simple vs LangGraph Agent\")\nprint(\"=\" * 60)\n\nimport time\n\n# Test the same question with both approaches\ntest_question = \"diabetes\"\n\n# Simple agent (template-based)\nstart = time.time()\nsimple_result = simple_agent.get_genes_for_disease(test_question)\nsimple_time = time.time() - start\n\nprint(f\"Simple Agent:\")\nprint(f\"  Time: {simple_time:.2f} seconds\")\nprint(f\"  Results: {len(simple_result)} genes found\")\nprint(f\"  Approach: Pre-written query template\")\n\n# LangGraph agent (AI-powered)\nstart = time.time()\nai_result = ai_agent.answer_question(f\"What genes are associated with {test_question}?\")\nai_time = time.time() - start\n\nprint(f\"\\nLangGraph Agent:\")\nprint(f\"  Time: {ai_time:.2f} seconds\")\nprint(f\"  Results: {ai_result['results_count']} results found\")\nprint(f\"  Approach: AI-generated query\")\n\nprint(f\"\\n📈 Speed Difference: {ai_time/simple_time:.1f}x slower (but more flexible!)\")"
  },
  {
   "cell_type": "markdown",
   "metadata": {},
   "source": [
    "## Part 9: Hands-on Exercises 🏋️‍♀️\n",
    "\n",
    "Now it's your turn to experiment!"
   ]
  },
  {
   "cell_type": "markdown",
   "metadata": {},
   "source": "# Your challenge: Create a modified workflow with validation\n# Hint: You can use graph_db.validate_query() to check if a query is valid\n\nfrom langgraph.graph import StateGraph, END\nfrom agent.advanced_ai_agent import LearningState\n\nclass ImprovedAgent:\n    def __init__(self, graph_interface, anthropic_api_key):\n        # Your code here!\n        pass\n    \n    def validate_query(self, state: LearningState) -> LearningState:\n        \"\"\"Add your validation logic here!\"\"\"\n        # Hint: Check if state['cypher_query'] is valid\n        # If not valid, set state['error'] = \"Invalid query\"\n        pass\n\n# Try implementing your improved agent!",
   "outputs": []
  },
  {
   "cell_type": "code",
   "metadata": {},
   "outputs": [],
   "source": "# Your challenge: Create a modified workflow with validation\n# Hint: You can use graph_db.validate_query() to check if a query is valid\n\nfrom langgraph.graph import StateGraph, END\nfrom agent.advanced_ai_agent import LearningState\n\nclass ImprovedAgent:\n    def __init__(self, graph_interface, anthropic_api_key):\n        # Your code here!\n        pass\n    \n    def validate_query(self, state: LearningState) -> LearningState:\n        \"\"\"Add your validation logic here!\"\"\"\n        # Hint: Check if state['cypher_query'] is valid\n        # If not valid, set state['error'] = \"Invalid query\"\n        pass\n\n# Try implementing your improved agent!"
  },
  {
   "cell_type": "markdown",
   "metadata": {},
   "source": [
    "## Part 10: Real-World Applications 🌍\n",
    "\n",
    "### Where are Knowledge Graphs + AI Used?\n",
    "\n",
    "1. **Drug Discovery** 💊\n",
    "   - Find new drug targets\n",
    "   - Predict drug side effects\n",
    "   - Repurpose existing drugs\n",
    "\n",
    "2. **Personalized Medicine** 🧬\n",
    "   - Match patients to treatments based on genetics\n",
    "   - Predict disease risk\n",
    "   - Optimize treatment plans\n",
    "\n",
    "3. **Research Acceleration** 🔬\n",
    "   - Literature mining and synthesis\n",
    "   - Hypothesis generation\n",
    "   - Cross-domain connections\n",
    "\n",
    "4. **Clinical Decision Support** 🏥\n",
    "   - Diagnostic assistance\n",
    "   - Treatment recommendations\n",
    "   - Drug interaction checking\n",
    "\n",
    "### Industry Examples\n",
    "- **Google**: Knowledge Graph for search\n",
    "- **Amazon**: Product recommendations\n",
    "- **Facebook**: Social graph analysis\n",
    "- **Pharmaceutical companies**: Drug discovery pipelines"
   ]
  },
  {
   "cell_type": "markdown",
   "metadata": {},
   "source": [
    "## Part 11: Next Steps and Advanced Topics 🚀\n",
    "\n",
    "### Immediate Next Steps\n",
    "1. **Experiment** with the Streamlit web interface\n",
    "2. **Try** different question types and see how the agent handles them\n",
    "3. **Modify** the agent code to add new features\n",
    "4. **Write** your own Cypher queries for complex biomedical questions\n",
    "\n",
    "### Advanced Topics to Explore\n",
    "1. **Graph Algorithms**: PageRank, community detection, shortest paths\n",
    "2. **Advanced LangGraph**: Conditional edges, parallel processing, human-in-the-loop\n",
    "3. **Graph Neural Networks**: AI models that work directly on graph structure\n",
    "4. **Real-time Updates**: Streaming data into knowledge graphs\n",
    "5. **Large-scale Graphs**: Handling millions/billions of nodes\n",
    "\n",
    "### Learning Resources\n",
    "- **Neo4j Documentation**: https://neo4j.com/docs/\n",
    "- **LangGraph Documentation**: https://langchain-ai.github.io/langgraph/\n",
    "- **Graph Theory Courses**: edX, Coursera, Khan Academy\n",
    "- **Biomedical Databases**: PubMed, UniProt, STRING"
   ]
  },
  {
   "cell_type": "markdown",
   "metadata": {},
   "source": "# Exercise 4: Write custom queries using real biomedical data\nexercises = {\n    \"a\": \"Find all proteins that are associated with cardiovascular diseases\",\n    \"b\": \"Find drugs that target proteins with high molecular weight (>50 kDa)\", \n    \"c\": \"Find the most common disease categories in our database\",\n    \"d\": \"Find complete pathways: Gene → Protein → Disease, where the gene is TP53\"\n}\n\nprint(\"✏️ Query Writing Exercises:\")\nfor key, exercise in exercises.items():\n    print(f\"{key}) {exercise}\")\n\nprint(\"\\n🧪 Try these solutions:\")\n\n# Exercise A - Solution\nquery_a = \"\"\"\nMATCH (p:Protein)-[:ASSOCIATED_WITH]->(d:Disease)\nWHERE d.category = 'cardiovascular'\nRETURN p.protein_name, d.disease_name\nLIMIT 10\n\"\"\"\n\n# Exercise B - Solution  \nquery_b = \"\"\"\nMATCH (dr:Drug)-[:TARGETS]->(p:Protein)\nWHERE p.molecular_weight > 50\nRETURN dr.drug_name, p.protein_name, p.molecular_weight\nORDER BY p.molecular_weight DESC\nLIMIT 10\n\"\"\"\n\n# Exercise C - Solution\nquery_c = \"\"\"\nMATCH (d:Disease)\nRETURN d.category, count(*) as disease_count\nORDER BY disease_count DESC\n\"\"\"\n\n# Exercise D - Solution\nquery_d = \"\"\"\nMATCH (g:Gene)-[:ENCODES]->(p:Protein)-[:ASSOCIATED_WITH]->(d:Disease)\nWHERE g.gene_name = 'TP53'\nRETURN g.gene_name, p.protein_name, d.disease_name\n\"\"\"\n\n# Test one of the queries\nprint(f\"\\n🧪 Testing Exercise A:\")\ntry:\n    result_a = graph_db.execute_query(query_a)\n    print(f\"Found {len(result_a)} protein-disease associations\")\n    for i, row in enumerate(result_a[:3]):  # Show first 3 results\n        print(f\"  {i+1}. {row['p.protein_name']} → {row['d.disease_name']}\")\n    if len(result_a) > 3:\n        print(f\"  ... and {len(result_a)-3} more\")\nexcept Exception as e:\n    print(f\"Query failed: {e}\")\n\nprint(\"\\n💡 Try running the other queries by changing query_a to query_b, query_c, or query_d\")",
   "outputs": []
  }
 ],
 "metadata": {
  "kernelspec": {
   "display_name": "Python 3",
   "language": "python",
   "name": "python3"
  },
  "language_info": {
   "codemirror_mode": {
    "name": "ipython",
    "version": 3
   },
   "file_extension": ".py",
   "mimetype": "text/x-python",
   "name": "python",
   "nbconvert_exporter": "python",
   "pygments_lexer": "ipython3",
   "version": "3.8.5"
  }
 },
 "nbformat": 4,
 "nbformat_minor": 4
}