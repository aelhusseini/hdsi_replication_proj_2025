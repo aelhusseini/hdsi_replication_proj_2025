{
 "cells": [
  {
   "cell_type": "markdown",
   "metadata": {},
   "source": [
    "# LangGraph and Knowledge Graphs Tutorial\n",
    "\n",
    "## Learning Objectives 🎯\n",
    "\n",
    "By the end of this tutorial, you will understand:\n",
    "\n",
    "1. **Knowledge Graphs**: What they are and how they represent domain knowledge\n",
    "2. **LangGraph**: How to build AI workflows with state management\n",
    "3. **Biomedical Applications**: Real-world uses of AI + knowledge graphs\n",
    "4. **Practical Implementation**: How to build your own AI agents\n",
    "\n",
    "## Prerequisites 📚\n",
    "\n",
    "- Basic Python programming\n",
    "- Understanding of databases (helpful but not required)\n",
    "- Interest in AI and biomedical applications\n",
    "\n",
    "---"
   ]
  },
  {
   "cell_type": "markdown",
   "metadata": {},
   "source": [
    "## Part 1: What are Knowledge Graphs? 🕸️\n",
    "\n",
    "### The Problem with Traditional Data Storage\n",
    "\n",
    "Imagine you're studying biology and want to answer: **\"What genes are related to diabetes?\"**\n",
    "\n",
    "With traditional databases (tables), you might have:\n",
    "- `genes` table\n",
    "- `diseases` table  \n",
    "- `gene_disease_associations` table\n",
    "\n",
    "But what about complex questions like: **\"What pathway connects Gene X to Drug Y through proteins and diseases?\"**\n",
    "\n",
    "This requires joining multiple tables and becomes very complex!\n",
    "\n",
    "### Knowledge Graphs: A Better Way\n",
    "\n",
    "Knowledge graphs store information as **nodes** (entities) and **relationships** (edges):\n",
    "\n",
    "```\n",
    "Gene_Alpha --[ENCODES]--> Protein_Beta --[ASSOCIATED_WITH]--> Diabetes\n",
    "                                           ^\n",
    "                                           |\n",
    "                                    [TREATS]\n",
    "                                           |\n",
    "                                      Drug_Gamma\n",
    "```\n",
    "\n",
    "This naturally represents how biological entities relate to each other!"
   ]
  },
  {
   "cell_type": "markdown",
   "metadata": {},
   "source": [
    "## Part 2: Our Biomedical Knowledge Graph 🧬\n",
    "\n",
    "### Graph Schema\n",
    "\n",
    "Our knowledge graph contains:\n",
    "\n",
    "**Nodes (Entities):**\n",
    "- 🧬 **Gene**: Genetic sequences (e.g., GENE_ALPHA, BRCA1)\n",
    "- 🧪 **Protein**: Proteins encoded by genes (e.g., PROT_BETA, insulin)\n",
    "- 🏥 **Disease**: Medical conditions (e.g., diabetes, cancer)\n",
    "- 💊 **Drug**: Medications and treatments (e.g., aspirin, AlphaCure)\n",
    "\n",
    "**Relationships (Edges):**\n",
    "- Gene `--[ENCODES]-->` Protein\n",
    "- Gene `--[LINKED_TO]-->` Disease\n",
    "- Protein `--[ASSOCIATED_WITH]-->` Disease  \n",
    "- Drug `--[TREATS]-->` Disease\n",
    "- Drug `--[TARGETS]-->` Protein\n",
    "\n",
    "### Why This Matters\n",
    "\n",
    "This structure mirrors how biologists think about molecular relationships!"
   ]
  },
  {
   "cell_type": "code",
   "execution_count": null,
   "metadata": {},
   "outputs": [],
   "source": [
    "# Let's connect to our knowledge graph and explore it!\n",
    "import sys\n",
    "sys.path.append('..')\n",
    "\n",
    "import os\n",
    "from dotenv import load_dotenv\n",
    "from agent.graph_interface import GraphInterface\n",
    "\n",
    "# Load environment variables\n",
    "load_dotenv()\n",
    "\n",
    "# Connect to the graph database\n",
    "uri = os.getenv(\"NEO4J_URI\", \"bolt://localhost:7687\")\n",
    "user = os.getenv(\"NEO4J_USER\", \"neo4j\")\n",
    "password = os.getenv(\"NEO4J_PASSWORD\")\n",
    "\n",
    "if not password:\n",
    "    print(\"⚠️ Please set NEO4J_PASSWORD in your .env file\")\n",
    "else:\n",
    "    graph_db = GraphInterface(uri, user, password)\n",
    "    print(\"✅ Connected to knowledge graph!\")"
   ]
  },
  {
   "cell_type": "code",
   "execution_count": null,
   "metadata": {},
   "outputs": [],
   "source": [
    "# Explore our graph schema\n",
    "schema = graph_db.get_schema_info()\n",
    "\n",
    "print(\"🏗️ Knowledge Graph Schema:\")\n",
    "print(\"=\" * 40)\n",
    "print(f\"Node Types: {schema['node_labels']}\")\n",
    "print(f\"Relationship Types: {schema['relationship_types']}\")\n",
    "print(\"\\n📊 Node Properties:\")\n",
    "for node_type, properties in schema['node_properties'].items():\n",
    "    print(f\"  {node_type}: {properties}\")"
   ]
  },
  {
   "cell_type": "code",
   "execution_count": null,
   "metadata": {},
   "outputs": [],
   "source": [
    "# Let's see some actual data!\n",
    "# Get a few examples of each node type\n",
    "\n",
    "print(\"🧬 Sample Genes:\")\n",
    "genes = graph_db.execute_query(\"MATCH (g:Gene) RETURN g.gene_name, g.function LIMIT 3\")\n",
    "for gene in genes:\n",
    "    print(f\"  • {gene['g.gene_name']}: {gene['g.function']}\")\n",
    "\n",
    "print(\"\\n🧪 Sample Proteins:\")\n",
    "proteins = graph_db.execute_query(\"MATCH (p:Protein) RETURN p.protein_name, p.molecular_weight LIMIT 3\")\n",
    "for protein in proteins:\n",
    "    print(f\"  • {protein['p.protein_name']}: {protein['p.molecular_weight']} kDa\")\n",
    "\n",
    "print(\"\\n🏥 Sample Diseases:\")\n",
    "diseases = graph_db.execute_query(\"MATCH (d:Disease) RETURN d.disease_name, d.category LIMIT 3\")\n",
    "for disease in diseases:\n",
    "    print(f\"  • {disease['d.disease_name']}: {disease['d.category']}\")\n",
    "\n",
    "print(\"\\n💊 Sample Drugs:\")\n",
    "drugs = graph_db.execute_query(\"MATCH (dr:Drug) RETURN dr.drug_name, dr.type LIMIT 3\")\n",
    "for drug in drugs:\n",
    "    print(f\"  • {drug['dr.drug_name']}: {drug['dr.type']}\")"
   ]
  },
  {
   "cell_type": "markdown",
   "metadata": {},
   "source": [
    "## Part 3: Graph Queries with Cypher 🔍\n",
    "\n",
    "Neo4j uses **Cypher** as its query language. Think of it like SQL, but for graphs!\n",
    "\n",
    "### Basic Cypher Patterns\n",
    "\n",
    "1. **MATCH**: Find patterns in the graph\n",
    "2. **WHERE**: Filter results\n",
    "3. **RETURN**: What to give back\n",
    "\n",
    "### Example Queries"
   ]
  },
  {
   "cell_type": "code",
   "execution_count": null,
   "metadata": {},
   "outputs": [],
   "source": [
    "# Simple query: Find all genes\n",
    "query1 = \"MATCH (g:Gene) RETURN g.gene_name LIMIT 5\"\n",
    "result1 = graph_db.execute_query(query1)\n",
    "\n",
    "print(\"🔍 Simple Query: All genes\")\n",
    "print(f\"Query: {query1}\")\n",
    "print(\"Results:\")\n",
    "for row in result1:\n",
    "    print(f\"  • {row['g.gene_name']}\")"
   ]
  },
  {
   "cell_type": "code",
   "execution_count": null,
   "metadata": {},
   "outputs": [],
   "source": [
    "# Relationship query: Find what proteins are encoded by genes\n",
    "query2 = \"\"\"\n",
    "MATCH (g:Gene)-[:ENCODES]->(p:Protein) \n",
    "RETURN g.gene_name, p.protein_name \n",
    "LIMIT 5\n",
    "\"\"\"\n",
    "\n",
    "result2 = graph_db.execute_query(query2)\n",
    "\n",
    "print(\"🔗 Relationship Query: Gene encodes Protein\")\n",
    "print(f\"Query: {query2.strip()}\")\n",
    "print(\"Results:\")\n",
    "for row in result2:\n",
    "    print(f\"  • Gene {row['g.gene_name']} encodes Protein {row['p.protein_name']}\")"
   ]
  },
  {
   "cell_type": "code",
   "execution_count": null,
   "metadata": {},
   "outputs": [],
   "source": [
    "# Complex query: Find complete pathway from gene to treatment\n",
    "query3 = \"\"\"\n",
    "MATCH (g:Gene)-[:ENCODES]->(p:Protein)-[:ASSOCIATED_WITH]->(d:Disease)<-[:TREATS]-(dr:Drug)\n",
    "RETURN g.gene_name, p.protein_name, d.disease_name, dr.drug_name\n",
    "LIMIT 3\n",
    "\"\"\"\n",
    "\n",
    "result3 = graph_db.execute_query(query3)\n",
    "\n",
    "print(\"🛤️ Complex Query: Complete pathway Gene → Protein → Disease ← Drug\")\n",
    "print(f\"Query: {query3.strip()}\")\n",
    "print(\"Results:\")\n",
    "for row in result3:\n",
    "    print(f\"  • {row['g.gene_name']} → {row['p.protein_name']} → {row['d.disease_name']} ← {row['dr.drug_name']}\")"
   ]
  },
  {
   "cell_type": "markdown",
   "metadata": {},
   "source": [
    "### 🎯 Exercise 1: Write Your Own Query\n",
    "\n",
    "Try writing a query to find drugs that treat diabetes!\n",
    "\n",
    "**Hint**: Use the pattern `(dr:Drug)-[:TREATS]->(d:Disease)` and filter where disease name contains \"diabetes\""
   ]
  },
  {
   "cell_type": "code",
   "execution_count": null,
   "metadata": {},
   "outputs": [],
   "source": [
    "# Your turn! Write a query to find drugs that treat diabetes\n",
    "your_query = \"\"\"\n",
    "# Write your query here!\n",
    "# Hint: MATCH (dr:Drug)-[:TREATS]->(d:Disease)\n",
    "#       WHERE toLower(d.disease_name) CONTAINS 'diabetes'\n",
    "#       RETURN dr.drug_name, d.disease_name\n",
    "\"\"\"\n",
    "\n",
    "# Uncomment and run when ready:\n",
    "# result = graph_db.execute_query(your_query)\n",
    "# for row in result:\n",
    "#     print(f\"Drug {row['dr.drug_name']} treats {row['d.disease_name']}\")"
   ]
  },
  {
   "cell_type": "markdown",
   "metadata": {},
   "source": [
    "## Part 4: What is LangGraph? 🌊\n",
    "\n",
    "### The Challenge: Complex AI Workflows\n",
    "\n",
    "Imagine you want to build an AI that can:\n",
    "1. Understand a natural language question\n",
    "2. Extract important entities\n",
    "3. Generate a database query\n",
    "4. Execute the query\n",
    "5. Format the results\n",
    "\n",
    "Each step depends on the previous ones, and you need to manage **state** (information) flowing between steps.\n",
    "\n",
    "### LangGraph: AI Workflow Engine\n",
    "\n",
    "LangGraph helps you build **multi-step AI workflows** with:\n",
    "- **Nodes**: Individual processing steps\n",
    "- **Edges**: How steps connect\n",
    "- **State**: Information that flows between steps\n",
    "\n",
    "### Visual Representation\n",
    "\n",
    "```\n",
    "Question → [Classify] → [Extract] → [Generate] → [Execute] → [Format] → Answer\n",
    "             ↓            ↓           ↓           ↓           ↓\n",
    "           State      State       State       State       State\n",
    "```"
   ]
  },
  {
   "cell_type": "markdown",
   "metadata": {},
   "source": "# Import our learning agent\nfrom agent.advanced_ai_agent import AdvancedAIAgent, demonstrate_workflow_steps\n\n# First, let's see what steps our workflow has\ndemonstrate_workflow_steps()",
   "outputs": []
  },
  {
   "cell_type": "code",
   "metadata": {},
   "outputs": [],
   "source": "# Create our learning agent\nanthropic_key = os.getenv(\"ANTHROPIC_API_KEY\")\n\nif not anthropic_key:\n    print(\"⚠️ Please set ANTHROPIC_API_KEY in your .env file\")\nelse:\n    # Initialize the learning agent\n    ai_agent = AdvancedAIAgent(graph_db, anthropic_key)\n    print(\"✅ Learning agent ready!\")"
  },
  {
   "cell_type": "code",
   "metadata": {},
   "outputs": [],
   "source": "# Create our learning agent\nanthropic_key = os.getenv(\"ANTHROPIC_API_KEY\")\n\nif not anthropic_key:\n    print(\"⚠️ Please set ANTHROPIC_API_KEY in your .env file\")\nelse:\n    # Initialize the learning agent\n    ai_agent = AdvancedAIAgent(graph_db, anthropic_key)\n    print(\"✅ Learning agent ready!\")"
  },
  {
   "cell_type": "markdown",
   "metadata": {},
   "source": "# Let's ask our agent a question and see the complete workflow!\nquestion = \"What genes are associated with diabetes?\"\n\nprint(\"🎓 Running Learning LangGraph Agent\")\nprint(\"=\" * 50)\n\nresult = ai_agent.answer_question(question)\n\nprint(\"\\n📋 Complete Workflow Results:\")\nprint(\"=\" * 50)\nprint(f\"❓ Original Question: {question}\")\nprint(f\"🏷️ Question Type: {result['question_type']}\")\nprint(f\"🧬 Entities Found: {result['entities']}\")\nprint(f\"🔧 Generated Query: {result['cypher_query']}\")\nprint(f\"📊 Results Count: {result['results_count']}\")\nprint(f\"✅ Final Answer: {result['answer']}\")\n\nif result['error']:\n    print(f\"❌ Error: {result['error']}\")",
   "outputs": []
  },
  {
   "cell_type": "code",
   "metadata": {},
   "outputs": [],
   "source": "# Let's ask our agent a question and see the complete workflow!\nquestion = \"What genes are associated with diabetes?\"\n\nprint(\"🎓 Running Learning LangGraph Agent\")\nprint(\"=\" * 50)\n\nresult = ai_agent.answer_question(question)\n\nprint(\"\\n📋 Complete Workflow Results:\")\nprint(\"=\" * 50)\nprint(f\"❓ Original Question: {question}\")\nprint(f\"🏷️ Question Type: {result['question_type']}\")\nprint(f\"🧬 Entities Found: {result['entities']}\")\nprint(f\"🔧 Generated Query: {result['cypher_query']}\")\nprint(f\"📊 Results Count: {result['results_count']}\")\nprint(f\"✅ Final Answer: {result['answer']}\")\n\nif result['error']:\n    print(f\"❌ Error: {result['error']}\")"
  },
  {
   "cell_type": "markdown",
   "metadata": {},
   "source": "result = ai_agent.answer_question(test_question)",
   "outputs": []
  },
  {
   "cell_type": "code",
   "metadata": {},
   "outputs": [],
   "source": "# Try different questions!\nquestions_to_try = [\n    \"What drugs treat hypertension?\",\n    \"What protein does GENE_ALPHA encode?\",\n    \"What diseases is PROT_BETA associated with?\",\n    \"What are the targets of AlphaCure?\"\n]\n\n# Pick one and try it:\ntest_question = questions_to_try[0]  # Change the index to try different questions\n\nprint(f\"Testing: {test_question}\")\nprint(\"-\" * 50)\n\nresult = ai_agent.answer_question(test_question)\nprint(f\"Answer: {result['answer']}\")\nprint(f\"Query used: {result['cypher_query']}\")"
  },
  {
   "cell_type": "markdown",
   "metadata": {},
   "source": "workflow_code = inspect.getsource(ai_agent._create_learning_workflow)",
   "outputs": []
  },
  {
   "cell_type": "code",
   "metadata": {},
   "outputs": [],
   "source": "# Let's examine the workflow creation code\nimport inspect\n\n# Look at how the workflow is created\nprint(\"🏗️ How the LangGraph Workflow is Built:\")\nprint(\"=\" * 50)\n\nworkflow_code = inspect.getsource(ai_agent._create_learning_workflow)\nprint(workflow_code)"
  },
  {
   "cell_type": "markdown",
   "metadata": {},
   "source": "extract_code = inspect.getsource(ai_agent.extract_entities)",
   "outputs": []
  },
  {
   "cell_type": "code",
   "metadata": {},
   "outputs": [],
   "source": "# Let's look at one of the workflow steps in detail\nprint(\"🔍 Example: The Entity Extraction Step\")\nprint(\"=\" * 50)\n\nextract_code = inspect.getsource(ai_agent.extract_entities)\nprint(extract_code)"
  },
  {
   "cell_type": "markdown",
   "metadata": {},
   "source": "# LangGraph agent (AI-powered)\nstart = time.time()\nai_result = ai_agent.answer_question(f\"What genes are associated with {test_question}?\")\nai_time = time.time() - start\n\nprint(f\"\\nLangGraph Agent:\")\nprint(f\"  Time: {ai_time:.2f} seconds\")\nprint(f\"  Results: {ai_result['results_count']} results found\")\nprint(f\"  Approach: AI-generated query\")\n\nprint(f\"\\n📈 Speed Difference: {ai_time/simple_time:.1f}x slower (but more flexible!)\")",
   "outputs": []
  },
  {
   "cell_type": "code",
   "metadata": {},
   "outputs": [],
   "source": "# Import the simple agent for comparison\nfrom agent.simple_agent import SimpleAgent\n\nsimple_agent = SimpleAgent(graph_db)\n\nprint(\"⚡ Speed Comparison: Simple vs LangGraph Agent\")\nprint(\"=\" * 60)\n\nimport time\n\n# Test the same question with both approaches\ntest_question = \"diabetes\"\n\n# Simple agent (template-based)\nstart = time.time()\nsimple_result = simple_agent.get_genes_for_disease(test_question)\nsimple_time = time.time() - start\n\nprint(f\"Simple Agent:\")\nprint(f\"  Time: {simple_time:.2f} seconds\")\nprint(f\"  Results: {len(simple_result)} genes found\")\nprint(f\"  Approach: Pre-written query template\")\n\n# LangGraph agent (AI-powered)\nstart = time.time()\nai_result = ai_agent.answer_question(f\"What genes are associated with {test_question}?\")\nai_time = time.time() - start\n\nprint(f\"\\nLangGraph Agent:\")\nprint(f\"  Time: {ai_time:.2f} seconds\")\nprint(f\"  Results: {ai_result['results_count']} results found\")\nprint(f\"  Approach: AI-generated query\")\n\nprint(f\"\\n📈 Speed Difference: {ai_time/simple_time:.1f}x slower (but more flexible!)\")"
  },
  {
   "cell_type": "markdown",
   "metadata": {},
   "source": [
    "## Part 8: When to Use Each Approach? 🤔\n",
    "\n",
    "### Simple Template Agent 🚀\n",
    "**Best for:**\n",
    "- Fast, predictable queries\n",
    "- Limited set of question types\n",
    "- Production systems needing reliability\n",
    "- When you know exactly what queries you need\n",
    "\n",
    "### LangGraph AI Agent 🧠\n",
    "**Best for:**\n",
    "- Flexible natural language input\n",
    "- Exploratory research questions\n",
    "- Complex multi-step reasoning\n",
    "- When users ask questions in many different ways\n",
    "\n",
    "### The Trade-offs\n",
    "- **Speed vs Flexibility**: Templates are faster, AI is more flexible\n",
    "- **Cost vs Capability**: Templates are free, AI uses API calls\n",
    "- **Predictability vs Adaptability**: Templates always work the same, AI can handle new patterns"
   ]
  },
  {
   "cell_type": "markdown",
   "metadata": {},
   "source": [
    "## Part 9: Hands-on Exercises 🏋️‍♀️\n",
    "\n",
    "Now it's your turn to experiment!"
   ]
  },
  {
   "cell_type": "markdown",
   "metadata": {},
   "source": "# Your challenge: Create a modified workflow with validation\n# Hint: You can use graph_db.validate_query() to check if a query is valid\n\nfrom langgraph.graph import StateGraph, END\nfrom agent.advanced_ai_agent import LearningState\n\nclass ImprovedAgent:\n    def __init__(self, graph_interface, anthropic_api_key):\n        # Your code here!\n        pass\n    \n    def validate_query(self, state: LearningState) -> LearningState:\n        \"\"\"Add your validation logic here!\"\"\"\n        # Hint: Check if state['cypher_query'] is valid\n        # If not valid, set state['error'] = \"Invalid query\"\n        pass\n\n# Try implementing your improved agent!",
   "outputs": []
  },
  {
   "cell_type": "code",
   "metadata": {},
   "outputs": [],
   "source": "# Your challenge: Create a modified workflow with validation\n# Hint: You can use graph_db.validate_query() to check if a query is valid\n\nfrom langgraph.graph import StateGraph, END\nfrom agent.advanced_ai_agent import LearningState\n\nclass ImprovedAgent:\n    def __init__(self, graph_interface, anthropic_api_key):\n        # Your code here!\n        pass\n    \n    def validate_query(self, state: LearningState) -> LearningState:\n        \"\"\"Add your validation logic here!\"\"\"\n        # Hint: Check if state['cypher_query'] is valid\n        # If not valid, set state['error'] = \"Invalid query\"\n        pass\n\n# Try implementing your improved agent!"
  },
  {
   "cell_type": "markdown",
   "metadata": {},
   "source": [
    "### 🎯 Exercise 4: Create Custom Queries\n",
    "\n",
    "Write Cypher queries for these biomedical questions:"
   ]
  },
  {
   "cell_type": "code",
   "execution_count": null,
   "metadata": {},
   "outputs": [],
   "source": [
    "# Exercise 4: Write custom queries\n",
    "exercises = {\n",
    "    \"a\": \"Find all proteins that are associated with neurological diseases\",\n",
    "    \"b\": \"Find drugs that target proteins with high molecular weight (>50 kDa)\", \n",
    "    \"c\": \"Find the most common disease categories in our database\",\n",
    "    \"d\": \"Find complete pathways: Gene → Protein → Disease, where the gene is on chromosome 1\"\n",
    "}\n",
    "\n",
    "print(\"✏️ Query Writing Exercises:\")\n",
    "for key, exercise in exercises.items():\n",
    "    print(f\"{key}) {exercise}\")\n",
    "\n",
    "# Try writing queries for each exercise:\n",
    "\n",
    "# Exercise A:\n",
    "query_a = \"\"\"\n",
    "# Your query here!\n",
    "\"\"\"\n",
    "\n",
    "# Exercise B:\n",
    "query_b = \"\"\"\n",
    "# Your query here!\n",
    "\"\"\"\n",
    "\n",
    "# Uncomment to test your queries:\n",
    "# result_a = graph_db.execute_query(query_a)\n",
    "# print(f\"Exercise A results: {len(result_a)} found\")"
   ]
  },
  {
   "cell_type": "markdown",
   "metadata": {},
   "source": [
    "## Part 10: Real-World Applications 🌍\n",
    "\n",
    "### Where are Knowledge Graphs + AI Used?\n",
    "\n",
    "1. **Drug Discovery** 💊\n",
    "   - Find new drug targets\n",
    "   - Predict drug side effects\n",
    "   - Repurpose existing drugs\n",
    "\n",
    "2. **Personalized Medicine** 🧬\n",
    "   - Match patients to treatments based on genetics\n",
    "   - Predict disease risk\n",
    "   - Optimize treatment plans\n",
    "\n",
    "3. **Research Acceleration** 🔬\n",
    "   - Literature mining and synthesis\n",
    "   - Hypothesis generation\n",
    "   - Cross-domain connections\n",
    "\n",
    "4. **Clinical Decision Support** 🏥\n",
    "   - Diagnostic assistance\n",
    "   - Treatment recommendations\n",
    "   - Drug interaction checking\n",
    "\n",
    "### Industry Examples\n",
    "- **Google**: Knowledge Graph for search\n",
    "- **Amazon**: Product recommendations\n",
    "- **Facebook**: Social graph analysis\n",
    "- **Pharmaceutical companies**: Drug discovery pipelines"
   ]
  },
  {
   "cell_type": "markdown",
   "metadata": {},
   "source": [
    "## Part 11: Next Steps and Advanced Topics 🚀\n",
    "\n",
    "### Immediate Next Steps\n",
    "1. **Experiment** with the Streamlit web interface\n",
    "2. **Try** different question types and see how the agent handles them\n",
    "3. **Modify** the agent code to add new features\n",
    "4. **Write** your own Cypher queries for complex biomedical questions\n",
    "\n",
    "### Advanced Topics to Explore\n",
    "1. **Graph Algorithms**: PageRank, community detection, shortest paths\n",
    "2. **Advanced LangGraph**: Conditional edges, parallel processing, human-in-the-loop\n",
    "3. **Graph Neural Networks**: AI models that work directly on graph structure\n",
    "4. **Real-time Updates**: Streaming data into knowledge graphs\n",
    "5. **Large-scale Graphs**: Handling millions/billions of nodes\n",
    "\n",
    "### Learning Resources\n",
    "- **Neo4j Documentation**: https://neo4j.com/docs/\n",
    "- **LangGraph Documentation**: https://langchain-ai.github.io/langgraph/\n",
    "- **Graph Theory Courses**: edX, Coursera, Khan Academy\n",
    "- **Biomedical Databases**: PubMed, UniProt, STRING"
   ]
  },
  {
   "cell_type": "markdown",
   "metadata": {},
   "source": [
    "## Summary and Reflection 🎯\n",
    "\n",
    "### What You've Learned\n",
    "✅ **Knowledge Graphs**: How to represent complex domain relationships as nodes and edges\n",
    "\n",
    "✅ **Cypher Queries**: How to extract information from graph databases\n",
    "\n",
    "✅ **LangGraph Workflows**: How to build multi-step AI agents with state management\n",
    "\n",
    "✅ **Biomedical Applications**: Real-world uses of AI + knowledge graphs in life sciences\n",
    "\n",
    "✅ **Practical Implementation**: Hands-on experience building and modifying AI agents\n",
    "\n",
    "### Key Insights\n",
    "1. **Graphs are powerful** for representing relationships in complex domains\n",
    "2. **LangGraph enables** sophisticated AI workflows with proper state management\n",
    "3. **Different approaches** (templates vs AI) have different trade-offs\n",
    "4. **Biomedical data** is naturally graph-structured and benefits from graph-based approaches\n",
    "\n",
    "### Your Next Challenge\n",
    "Pick a domain you're interested in (sports, movies, finance, etc.) and design a knowledge graph structure for it. What nodes and relationships would you include? How would you query it?\n",
    "\n",
    "---\n",
    "\n",
    "## 🎉 Congratulations!\n",
    "\n",
    "You've completed the LangGraph and Knowledge Graphs tutorial. You now have the foundation to build your own AI-powered graph applications!\n",
    "\n",
    "Keep experimenting, keep learning, and remember: the best way to understand these concepts is to build something with them! 🚀"
   ]
  }
 ],
 "metadata": {
  "kernelspec": {
   "display_name": "Python 3",
   "language": "python",
   "name": "python3"
  },
  "language_info": {
   "codemirror_mode": {
    "name": "ipython",
    "version": 3
   },
   "file_extension": ".py",
   "mimetype": "text/x-python",
   "name": "python",
   "nbconvert_exporter": "python",
   "pygments_lexer": "ipython3",
   "version": "3.8.5"
  }
 },
 "nbformat": 4,
 "nbformat_minor": 4
}